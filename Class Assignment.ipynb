{
 "cells": [
  {
   "cell_type": "code",
   "execution_count": 1,
   "id": "a1b10889-25ce-44a1-8218-537bedaf0871",
   "metadata": {},
   "outputs": [],
   "source": [
    "#Create a class and function, and list out the items in the list"
   ]
  },
  {
   "cell_type": "code",
   "execution_count": 6,
   "id": "0796e6d7-d211-45e8-92c2-d19f5e5be52e",
   "metadata": {},
   "outputs": [],
   "source": [
    "class SubfieldsInAI():\n",
    "    def Subfields():\n",
    "        lists= ['Machine Learning','Neural Networks','Vision','Robotics','Speech Processing','Natural Language Processing']\n",
    "        print(\"Sub-fields in AI are:\")\n",
    "        for l in lists:\n",
    "            print(l)\n"
   ]
  },
  {
   "cell_type": "code",
   "execution_count": 7,
   "id": "d0915737-f5b2-40b9-80f6-cc207f815e9e",
   "metadata": {},
   "outputs": [
    {
     "name": "stdout",
     "output_type": "stream",
     "text": [
      "Sub-fields in AI are:\n",
      "Machine Learning\n",
      "Neural Networks\n",
      "Vision\n",
      "Robotics\n",
      "Speech Processing\n",
      "Natural Language Processing\n"
     ]
    }
   ],
   "source": [
    "SubfieldsInAI.Subfields()"
   ]
  },
  {
   "cell_type": "code",
   "execution_count": null,
   "id": "9ffef290-51f3-4bd4-aac7-9f57eeb5f999",
   "metadata": {},
   "outputs": [],
   "source": [
    "# Create a function that checks whether the given number is Odd or Even"
   ]
  },
  {
   "cell_type": "code",
   "execution_count": 10,
   "id": "0282b880-d1d6-426c-b908-f1e6defbcf29",
   "metadata": {},
   "outputs": [],
   "source": [
    "class OddEven():\n",
    "    def OddEven():\n",
    "        num=int(input(\"Enter the Number:\"))\n",
    "        if(num%2 == 0):\n",
    "            print(num,\"is Even Number\")\n",
    "        else:\n",
    "            print(num,\"is odd number\")\n"
   ]
  },
  {
   "cell_type": "code",
   "execution_count": 11,
   "id": "38fd6119-ee3c-4b09-9ca3-5b9876bea880",
   "metadata": {},
   "outputs": [
    {
     "name": "stdin",
     "output_type": "stream",
     "text": [
      "Enter the Number: 52452\n"
     ]
    },
    {
     "name": "stdout",
     "output_type": "stream",
     "text": [
      "52452 is Even Number\n"
     ]
    }
   ],
   "source": [
    "OddEven.OddEven()"
   ]
  },
  {
   "cell_type": "code",
   "execution_count": null,
   "id": "7e7e3847-a0b7-4cc0-a0b4-067a0f27595f",
   "metadata": {},
   "outputs": [],
   "source": [
    "# Create a function that tells elegibility of marriage for male and female"
   ]
  },
  {
   "cell_type": "code",
   "execution_count": 15,
   "id": "91d8a3ea-722c-4ed8-b076-e4a126db027c",
   "metadata": {},
   "outputs": [],
   "source": [
    "class ElegiblityForMarriage():\n",
    "    def Elegible():\n",
    "        gender=input(\"Enter the Gender\").strip().lower()\n",
    "        Age=int(input(\"Enter the Age\"))\n",
    "        if(gender ==\"male\") and (Age >= 21) or (gender ==\"female\" and Age >= 18):\n",
    "            print(\"Eligible\")\n",
    "        else:\n",
    "            print(\"Not Eligible\")\n",
    "\n",
    "    "
   ]
  },
  {
   "cell_type": "code",
   "execution_count": 16,
   "id": "c06ac69c-ef6e-408c-a176-09bcbac206a5",
   "metadata": {},
   "outputs": [
    {
     "name": "stdin",
     "output_type": "stream",
     "text": [
      "Enter the Gender femaLE\n",
      "Enter the Age 17\n"
     ]
    },
    {
     "name": "stdout",
     "output_type": "stream",
     "text": [
      "Not Eligible\n"
     ]
    }
   ],
   "source": [
    "ElegiblityForMarriage.Elegible()"
   ]
  },
  {
   "cell_type": "code",
   "execution_count": null,
   "id": "b41fc1ee-b606-4a20-8935-96af818e9fad",
   "metadata": {},
   "outputs": [],
   "source": [
    "# calculate the percentage of your 10th mark"
   ]
  },
  {
   "cell_type": "code",
   "execution_count": 24,
   "id": "0425d503-4d46-4ffb-bb58-27a664997c26",
   "metadata": {},
   "outputs": [],
   "source": [
    "class FindPercent():\n",
    "    def percentage():\n",
    "        Subject1 = int(input(\"Enter Subject 1:\"))\n",
    "        Subject2 = int(input(\"Enter Subject 2:\"))\n",
    "        Subject3 = int(input(\"Enter Subject 3:\"))\n",
    "        Subject4 = int(input(\"Enter Subject 4:\"))\n",
    "        Subject5 = int(input(\"Enter Subject 5:\"))\n",
    "        Total =Subject1+Subject2+Subject3+Subject4+Subject5\n",
    "        Percentage =(Total/(5*100))*100\n",
    "        print(\"Total : \",Total)\n",
    "        print(\"Percentage:\", Percentage)"
   ]
  },
  {
   "cell_type": "code",
   "execution_count": 25,
   "id": "dab959ae-eac1-4e61-84b9-426cbd6d2fbc",
   "metadata": {},
   "outputs": [
    {
     "name": "stdin",
     "output_type": "stream",
     "text": [
      "Enter Subject 1: 98\n",
      "Enter Subject 2: 87\n",
      "Enter Subject 3: 95\n",
      "Enter Subject 4: 95\n",
      "Enter Subject 5: 93\n"
     ]
    },
    {
     "name": "stdout",
     "output_type": "stream",
     "text": [
      "Total :  468\n",
      "Percentage: 93.60000000000001\n"
     ]
    }
   ],
   "source": [
    "FindPercent.percentage()"
   ]
  },
  {
   "cell_type": "code",
   "execution_count": null,
   "id": "9ba39e37-8cd3-48d7-98f0-0a3fd4e9cf30",
   "metadata": {},
   "outputs": [],
   "source": [
    "#print area and perimeter of triangle using class and functions"
   ]
  },
  {
   "cell_type": "code",
   "execution_count": 28,
   "id": "32c99148-5745-4348-ab2b-27dbf56f14cd",
   "metadata": {},
   "outputs": [],
   "source": [
    "class triangle():\n",
    "    def triangle():\n",
    "        Height = float(input(\"Height:\"))\n",
    "        Breadth = float(input(\"Breadth:\"))\n",
    "        Area = (Height* Breadth)/2\n",
    "        print(\"Area formula: (Height*Breadth)/2\")\n",
    "        print(\"Are of Triangle:\", Area)\n",
    "        \n",
    "        Height1 = float(input(\"Height1:\"))\n",
    "        Height2 = float(input(\"Height2:\"))\n",
    "        Breadth = float(input(\"Breadth:\"))\n",
    "        Perimeter = Height1+Height2+Breadth\n",
    "        print(\"Perimeter formula: Height1+Height2+Breadth\")\n",
    "        print(\"Perimeter of Triangle:\", Perimeter)"
   ]
  },
  {
   "cell_type": "code",
   "execution_count": 29,
   "id": "5a69fa39-c7e2-4454-a0bc-71db5ead5566",
   "metadata": {},
   "outputs": [
    {
     "name": "stdin",
     "output_type": "stream",
     "text": [
      "Height: 2\n",
      "Breadth: 2\n"
     ]
    },
    {
     "name": "stdout",
     "output_type": "stream",
     "text": [
      "Area formula: (Height*Breadth)/2\n",
      "Are of Triangle: 2.0\n"
     ]
    },
    {
     "name": "stdin",
     "output_type": "stream",
     "text": [
      "Height1: 2\n",
      "Height2: 2\n",
      "Breadth: 2\n"
     ]
    },
    {
     "name": "stdout",
     "output_type": "stream",
     "text": [
      "Perimeter formula: Height1+Height2+Breadth\n",
      "Perimeter of Triangle: 6.0\n"
     ]
    }
   ],
   "source": [
    "triangle.triangle()"
   ]
  },
  {
   "cell_type": "code",
   "execution_count": null,
   "id": "2840a06e-cb65-4091-a789-4e8af14d51e8",
   "metadata": {},
   "outputs": [],
   "source": []
  }
 ],
 "metadata": {
  "kernelspec": {
   "display_name": "Python [conda env:base] *",
   "language": "python",
   "name": "conda-base-py"
  },
  "language_info": {
   "codemirror_mode": {
    "name": "ipython",
    "version": 3
   },
   "file_extension": ".py",
   "mimetype": "text/x-python",
   "name": "python",
   "nbconvert_exporter": "python",
   "pygments_lexer": "ipython3",
   "version": "3.13.5"
  }
 },
 "nbformat": 4,
 "nbformat_minor": 5
}

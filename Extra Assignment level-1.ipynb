{
 "cells": [
  {
   "cell_type": "code",
   "execution_count": null,
   "id": "bd4527a5-34ac-4932-9b4e-fbb26fa6f1b0",
   "metadata": {},
   "outputs": [],
   "source": [
    "#print statement"
   ]
  },
  {
   "cell_type": "code",
   "execution_count": 1,
   "id": "e0be8113-7dd9-465f-9bd2-303e0257b8db",
   "metadata": {},
   "outputs": [
    {
     "name": "stdout",
     "output_type": "stream",
     "text": [
      "HOPE AI\n"
     ]
    }
   ],
   "source": [
    "print(\"HOPE AI\")"
   ]
  },
  {
   "cell_type": "code",
   "execution_count": null,
   "id": "bb0542dc-c7ae-4fd8-aeb2-efeb9ecdfb7a",
   "metadata": {},
   "outputs": [],
   "source": [
    "#Buy Input"
   ]
  },
  {
   "cell_type": "code",
   "execution_count": 18,
   "id": "379fd1de-e483-4666-a651-6ae4c0737a57",
   "metadata": {},
   "outputs": [
    {
     "name": "stdin",
     "output_type": "stream",
     "text": [
      "Enter your institute name? : Hope AI\n"
     ]
    },
    {
     "name": "stdout",
     "output_type": "stream",
     "text": [
      "Hope AI\n"
     ]
    }
   ],
   "source": [
    "print(input(\"Enter your institute name? :\" ))"
   ]
  },
  {
   "cell_type": "code",
   "execution_count": null,
   "id": "3e099e8b-91c1-4264-a994-c0fcd6184c0d",
   "metadata": {},
   "outputs": [],
   "source": [
    " #Buy inputs"
   ]
  },
  {
   "cell_type": "code",
   "execution_count": 20,
   "id": "120636bf-2620-47f0-91b1-41d0ab8b9ae9",
   "metadata": {},
   "outputs": [
    {
     "name": "stdin",
     "output_type": "stream",
     "text": [
      "Enter your name: Nithya\n"
     ]
    },
    {
     "name": "stdout",
     "output_type": "stream",
     "text": [
      "Name = Nithya\n"
     ]
    },
    {
     "name": "stdin",
     "output_type": "stream",
     "text": [
      "Enter your Age: 30\n"
     ]
    },
    {
     "name": "stdout",
     "output_type": "stream",
     "text": [
      "Age = 30\n"
     ]
    },
    {
     "name": "stdin",
     "output_type": "stream",
     "text": [
      "Enter your School name: Immaculate\n"
     ]
    },
    {
     "name": "stdout",
     "output_type": "stream",
     "text": [
      "School = Immaculate\n"
     ]
    },
    {
     "name": "stdin",
     "output_type": "stream",
     "text": [
      "Enter your Degree: M.tech\n"
     ]
    },
    {
     "name": "stdout",
     "output_type": "stream",
     "text": [
      "Degree = M.tech\n"
     ]
    }
   ],
   "source": [
    "print(\"Name =\", input(\"Enter your name:\" ))\n",
    "print(\"Age =\", input(\"Enter your Age:\" ))\n",
    "print(\"School =\", input(\"Enter your School name:\" ))\n",
    "print(\"Degree =\", input(\"Enter your Degree:\" ))"
   ]
  },
  {
   "cell_type": "code",
   "execution_count": null,
   "id": "d138fe03-75a2-4ac7-8fc8-7cfda99da37d",
   "metadata": {},
   "outputs": [],
   "source": [
    "#Addition"
   ]
  },
  {
   "cell_type": "code",
   "execution_count": 5,
   "id": "57beda3b-dca6-415b-bd21-e9b130dd4eda",
   "metadata": {},
   "outputs": [
    {
     "name": "stdin",
     "output_type": "stream",
     "text": [
      "a= 43\n",
      "b= 34\n"
     ]
    },
    {
     "name": "stdout",
     "output_type": "stream",
     "text": [
      "add= 77\n"
     ]
    }
   ],
   "source": [
    "a=int(input(\"a=\"))\n",
    "b= int(input(\"b=\"))\n",
    "print(\"add=\",a+b)\n",
    "    "
   ]
  },
  {
   "cell_type": "code",
   "execution_count": null,
   "id": "04d4dee0-8a02-4338-aced-f30367a75954",
   "metadata": {},
   "outputs": [],
   "source": [
    "#Subtraction"
   ]
  },
  {
   "cell_type": "code",
   "execution_count": 8,
   "id": "6388bd96-877c-4777-b6e4-3927e2a135b6",
   "metadata": {},
   "outputs": [
    {
     "name": "stdin",
     "output_type": "stream",
     "text": [
      "a= 43\n",
      "b= 34\n"
     ]
    },
    {
     "name": "stdout",
     "output_type": "stream",
     "text": [
      "Sub= 9\n"
     ]
    }
   ],
   "source": [
    "a=int(input(\"a=\"))\n",
    "b= int(input(\"b=\"))\n",
    "print(\"Sub=\",a-b)"
   ]
  },
  {
   "cell_type": "code",
   "execution_count": null,
   "id": "5ccba7d5-a7ac-4d34-b230-cd5fa080f4b4",
   "metadata": {},
   "outputs": [],
   "source": [
    "#Multiplication"
   ]
  },
  {
   "cell_type": "code",
   "execution_count": 9,
   "id": "739f3829-69f2-418d-8b6f-33a6675ed2e1",
   "metadata": {},
   "outputs": [
    {
     "name": "stdin",
     "output_type": "stream",
     "text": [
      "a= 63\n",
      "b= 97\n"
     ]
    },
    {
     "name": "stdout",
     "output_type": "stream",
     "text": [
      "Mul= 6111\n"
     ]
    }
   ],
   "source": [
    "a=int(input(\"a=\"))\n",
    "b= int(input(\"b=\"))\n",
    "print(\"Mul=\",a*b)"
   ]
  },
  {
   "cell_type": "code",
   "execution_count": null,
   "id": "ebaa8d17-3e9e-4b94-b063-230495a3be82",
   "metadata": {},
   "outputs": [],
   "source": [
    "#Division"
   ]
  },
  {
   "cell_type": "code",
   "execution_count": 11,
   "id": "e0595140-1a01-4301-8ae9-4dd678b62fa6",
   "metadata": {},
   "outputs": [
    {
     "name": "stdin",
     "output_type": "stream",
     "text": [
      "a= 76\n",
      "b= 31\n"
     ]
    },
    {
     "name": "stdout",
     "output_type": "stream",
     "text": [
      "Div= 2.4516129032258065\n"
     ]
    }
   ],
   "source": [
    "a=int(input(\"a=\"))\n",
    "b= int(input(\"b=\"))\n",
    "print(\"Div=\",a/b)"
   ]
  },
  {
   "cell_type": "code",
   "execution_count": null,
   "id": "028768bf-3926-40dc-b363-c266835d779a",
   "metadata": {},
   "outputs": [],
   "source": [
    "#Floor Divison"
   ]
  },
  {
   "cell_type": "code",
   "execution_count": 12,
   "id": "64996044-27ed-4338-b9ca-4be2900bc67a",
   "metadata": {},
   "outputs": [
    {
     "name": "stdin",
     "output_type": "stream",
     "text": [
      "a= 76\n",
      "b= 31\n"
     ]
    },
    {
     "name": "stdout",
     "output_type": "stream",
     "text": [
      "Div= 2\n"
     ]
    }
   ],
   "source": [
    "a=int(input(\"a=\"))\n",
    "b= int(input(\"b=\"))\n",
    "print(\"Div=\",a//b)"
   ]
  },
  {
   "cell_type": "code",
   "execution_count": null,
   "id": "7ea9390e-3f38-4bd4-b155-7d907143746f",
   "metadata": {},
   "outputs": [],
   "source": [
    " #Modulo"
   ]
  },
  {
   "cell_type": "code",
   "execution_count": 13,
   "id": "8f459a44-8b70-4b07-98a9-e4312aad8c0d",
   "metadata": {},
   "outputs": [
    {
     "name": "stdin",
     "output_type": "stream",
     "text": [
      "a= 76\n",
      "b= 31\n"
     ]
    },
    {
     "name": "stdout",
     "output_type": "stream",
     "text": [
      "Modulo= 14\n"
     ]
    }
   ],
   "source": [
    "a=int(input(\"a=\"))\n",
    "b= int(input(\"b=\"))\n",
    "print(\"Modulo=\",a%b)"
   ]
  },
  {
   "cell_type": "code",
   "execution_count": null,
   "id": "d13525a6-240c-431c-96ec-40cdb8c39b25",
   "metadata": {},
   "outputs": [],
   "source": [
    "#Power"
   ]
  },
  {
   "cell_type": "code",
   "execution_count": 16,
   "id": "e7492905-7809-4e2b-a05d-ea7e0046cda4",
   "metadata": {},
   "outputs": [
    {
     "name": "stdin",
     "output_type": "stream",
     "text": [
      "a= 4\n",
      "b= 4\n"
     ]
    },
    {
     "name": "stdout",
     "output_type": "stream",
     "text": [
      "Power= 256\n"
     ]
    }
   ],
   "source": [
    "a=int(input(\"a=\"))\n",
    "b= int(input(\"b=\"))\n",
    "power= a**b\n",
    "print(\"Power=\",power)"
   ]
  },
  {
   "cell_type": "code",
   "execution_count": 17,
   "id": "64151329-e10b-4129-9a77-30938bb1e082",
   "metadata": {},
   "outputs": [
    {
     "name": "stdin",
     "output_type": "stream",
     "text": [
      "a= 4\n",
      "b= 4\n"
     ]
    },
    {
     "name": "stdout",
     "output_type": "stream",
     "text": [
      "Power= 256\n"
     ]
    }
   ],
   "source": [
    "a=int(input(\"a=\"))\n",
    "b= int(input(\"b=\"))\n",
    "power= pow(a,b)\n",
    "print(\"Power=\",power)"
   ]
  },
  {
   "cell_type": "code",
   "execution_count": null,
   "id": "430eb3b3-60f4-4731-bed0-65158cb1f375",
   "metadata": {},
   "outputs": [],
   "source": []
  }
 ],
 "metadata": {
  "kernelspec": {
   "display_name": "Python [conda env:base] *",
   "language": "python",
   "name": "conda-base-py"
  },
  "language_info": {
   "codemirror_mode": {
    "name": "ipython",
    "version": 3
   },
   "file_extension": ".py",
   "mimetype": "text/x-python",
   "name": "python",
   "nbconvert_exporter": "python",
   "pygments_lexer": "ipython3",
   "version": "3.13.5"
  }
 },
 "nbformat": 4,
 "nbformat_minor": 5
}

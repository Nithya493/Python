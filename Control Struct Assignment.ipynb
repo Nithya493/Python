{
 "cells": [
  {
   "cell_type": "code",
   "execution_count": 1,
   "id": "8e029129-5c36-443b-9122-234247db94fb",
   "metadata": {},
   "outputs": [
    {
     "name": "stdout",
     "output_type": "stream",
     "text": [
      "Welcome to Assignment-1\n"
     ]
    }
   ],
   "source": [
    "print(\"Welcome to Assignment-1\")"
   ]
  },
  {
   "cell_type": "code",
   "execution_count": 4,
   "id": "1d83755b-b53c-45c7-8a09-cd8737712347",
   "metadata": {},
   "outputs": [
    {
     "name": "stdout",
     "output_type": "stream",
     "text": [
      "Num1= 10\n",
      "Num2= 40\n",
      "Add= 50\n"
     ]
    }
   ],
   "source": [
    "Num1 = 10\n",
    "print(\"Num1=\",Num1)\n",
    "Num2 = 40\n",
    "print(\"Num2=\",Num2)\n",
    "add = Num1+Num2\n",
    "print(\"Add=\",add)\n"
   ]
  },
  {
   "cell_type": "code",
   "execution_count": null,
   "id": "32e6e5e1-d21e-48db-976e-4d2f0d27615a",
   "metadata": {},
   "outputs": [],
   "source": [
    "#Body Mass Index"
   ]
  },
  {
   "cell_type": "code",
   "execution_count": 10,
   "id": "eb21846f-0d1a-4af8-9819-dae9bd2c9a11",
   "metadata": {},
   "outputs": [
    {
     "name": "stdin",
     "output_type": "stream",
     "text": [
      "Enter the BMI Index: 50\n"
     ]
    },
    {
     "name": "stdout",
     "output_type": "stream",
     "text": [
      "Obesity class 2\n"
     ]
    }
   ],
   "source": [
    "bmi = float(input(\"Enter the BMI Index:\"))\n",
    "if(bmi < 18.5):\n",
    "    print(\"Under weight\")\n",
    "elif(bmi >= 18.5 and bmi <= 24.9):\n",
    "    print(\"Normal weight\")\n",
    "elif(bmi >= 20.0 and bmi <= 29.9):\n",
    "    print(\"Over weight\")\n",
    "elif(bmi >= 30.0 and bmi <= 34.9):\n",
    "    print(\"Obesity class 1\")\n",
    "elif(bmi >= 35.0 and bmi <= 39.9):\n",
    "    print(\"Obesity class 2\")\n",
    "else:\n",
    "    print(\"Obesity class 2\")\n"
   ]
  },
  {
   "cell_type": "code",
   "execution_count": null,
   "id": "145b64dd-e3e2-4500-8f8b-2dc9330f7444",
   "metadata": {},
   "outputs": [],
   "source": []
  }
 ],
 "metadata": {
  "kernelspec": {
   "display_name": "Python [conda env:base] *",
   "language": "python",
   "name": "conda-base-py"
  },
  "language_info": {
   "codemirror_mode": {
    "name": "ipython",
    "version": 3
   },
   "file_extension": ".py",
   "mimetype": "text/x-python",
   "name": "python",
   "nbconvert_exporter": "python",
   "pygments_lexer": "ipython3",
   "version": "3.13.5"
  }
 },
 "nbformat": 4,
 "nbformat_minor": 5
}
